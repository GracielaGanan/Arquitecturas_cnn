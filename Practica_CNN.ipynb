{
  "cells": [
    {
      "cell_type": "markdown",
      "metadata": {
        "id": "view-in-github",
        "colab_type": "text"
      },
      "source": [
        "<a href=\"https://colab.research.google.com/github/GracielaGanan/Arquitecturas_cnn/blob/main/Practica_CNN.ipynb\" target=\"_parent\"><img src=\"https://colab.research.google.com/assets/colab-badge.svg\" alt=\"Open In Colab\"/></a>"
      ]
    },
    {
      "cell_type": "code",
      "source": [],
      "metadata": {
        "id": "ujhSUs2cgORW"
      },
      "id": "ujhSUs2cgORW",
      "execution_count": null,
      "outputs": []
    },
    {
      "cell_type": "markdown",
      "metadata": {
        "id": "eYNQW8I4fQVP"
      },
      "source": [
        "# Actividad: Evaluación comparativa de arquitecturas convolucionales\n",
        "\n",
        "Para este notebook se te solicita construir, entrenar y analizar modelos CNN para clasificar imágenes mediante un dataset CIFAR.\n",
        "\n",
        "**Entregable:** Reporte en la evaluación de la capacidad de arquitectura implementada. Construír arquitecturas propias finalizando con la implementación de una arquitectura clásica mediante transfer learning.\n",
        "\n",
        "\n",
        "## Toma como base el código visto en clase y desarrolla los siguientes puntos:\n",
        "- Diseño e implementación de 2 arquitecturas CNN y utilización de una arquitectura de transfer learning.\n",
        "\n",
        "- Buen uso de data augmentation y regularización.\n",
        "\n",
        "- Comparación experimental entre arquitecturas y reporte claro (un solo markdown con conclusión sobre la comparación).\n",
        "\n",
        "\n",
        "\n"
      ],
      "id": "eYNQW8I4fQVP"
    },
    {
      "cell_type": "code",
      "execution_count": null,
      "metadata": {
        "colab": {
          "base_uri": "https://localhost:8080/"
        },
        "id": "X0i8stzKfQVT",
        "outputId": "048a3d74-6689-4d77-cd80-1de75a9768ed"
      },
      "outputs": [
        {
          "output_type": "stream",
          "name": "stdout",
          "text": [
            "TensorFlow: 2.19.0\n"
          ]
        }
      ],
      "source": [
        "# Imports librerias\n",
        "import numpy as np\n",
        "import matplotlib.pyplot as plt\n",
        "import tensorflow as tf\n",
        "from tensorflow import keras\n",
        "from tensorflow.keras import layers, models\n",
        "from tensorflow.keras.applications import MobileNetV2\n",
        "from tensorflow.keras.preprocessing.image import ImageDataGenerator\n",
        "from tensorflow.keras.callbacks import EarlyStopping, ReduceLROnPlateau, ModelCheckpoint\n",
        "\n",
        "# Para reproducibilidad (opcional)\n",
        "np.random.seed(42)\n",
        "tf.random.set_seed(42)\n",
        "\n",
        "print(\"TensorFlow:\", tf.__version__)\n"
      ],
      "id": "X0i8stzKfQVT"
    },
    {
      "cell_type": "code",
      "source": [
        "\n",
        "# Cargar CIFAR-10 y preparar subset rápido\n",
        "(x_train, y_train), (x_test, y_test) = keras.datasets.cifar10.load_data()\n",
        "\n",
        "# Normalizar\n",
        "x_train = x_train.astype('float32') / 255.0\n",
        "x_test  = x_test.astype('float32') / 255.0\n",
        "\n",
        "# One-hot\n",
        "y_train = keras.utils.to_categorical(y_train, 10)\n",
        "y_test  = keras.utils.to_categorical(y_test, 10)\n",
        "\n",
        "# Usamos un SUBCONJUNTO para entrenar rápido (ajustalo si querés)\n",
        "N_TRAIN = 10000   # ≤50000; 10000 es rápido y razonable\n",
        "x_train_small = x_train[:N_TRAIN]\n",
        "y_train_small = y_train[:N_TRAIN]\n",
        "\n",
        "print(\"x_train_small:\", x_train_small.shape, \"x_test:\", x_test.shape)\n"
      ],
      "metadata": {
        "colab": {
          "base_uri": "https://localhost:8080/"
        },
        "id": "U2FnbC10g2RU",
        "outputId": "7a9b1291-cbbe-42f1-cd9f-b0c193f861e5"
      },
      "id": "U2FnbC10g2RU",
      "execution_count": null,
      "outputs": [
        {
          "output_type": "stream",
          "name": "stdout",
          "text": [
            "x_train_small: (10000, 32, 32, 3) x_test: (10000, 32, 32, 3)\n"
          ]
        }
      ]
    },
    {
      "cell_type": "code",
      "source": [
        "# Data augmentation + callbacks\n",
        "datagen = ImageDataGenerator(\n",
        "    rotation_range=12,\n",
        "    width_shift_range=0.08,\n",
        "    height_shift_range=0.08,\n",
        "    horizontal_flip=True,\n",
        "    zoom_range=0.08\n",
        ")\n",
        "datagen.fit(x_train_small)\n",
        "\n",
        "# Callbacks: detiene si no mejora y reduce lr si se estanca\n",
        "early = EarlyStopping(monitor='val_loss', patience=4, restore_best_weights=True, verbose=1)\n",
        "reduce_lr = ReduceLROnPlateau(monitor='val_loss', factor=0.5, patience=2, verbose=1)\n",
        "ckpt = ModelCheckpoint(\"best_model.h5\", monitor='val_loss', save_best_only=True, verbose=1)\n"
      ],
      "metadata": {
        "id": "ztSzxqjFBddb"
      },
      "id": "ztSzxqjFBddb",
      "execution_count": null,
      "outputs": []
    },
    {
      "cell_type": "markdown",
      "source": [
        "Definiciones de modelos"
      ],
      "metadata": {
        "id": "0vfHlYB3gm_q"
      },
      "id": "0vfHlYB3gm_q"
    },
    {
      "cell_type": "code",
      "source": [
        "# === CELDA 4: Definición de modelos ===\n",
        "INPUT_SHAPE = x_train_small.shape[1:]  # (32,32,3) para CIFAR\n",
        "\n",
        "def create_cnn_simple(input_shape=INPUT_SHAPE, n_classes=10):\n",
        "    model = models.Sequential([\n",
        "        layers.Input(shape=input_shape),\n",
        "        layers.Conv2D(32, (3,3), activation='relu', padding='same'),\n",
        "        layers.MaxPooling2D(2,2),\n",
        "\n",
        "        layers.Conv2D(64, (3,3), activation='relu', padding='same'),\n",
        "        layers.MaxPooling2D(2,2),\n",
        "\n",
        "        layers.Flatten(),\n",
        "        layers.Dense(128, activation='relu'),\n",
        "        layers.Dropout(0.4),\n",
        "        layers.Dense(n_classes, activation='softmax')\n",
        "    ])\n",
        "    return model\n",
        "\n",
        "def create_cnn_better(input_shape=INPUT_SHAPE, n_classes=10):\n",
        "    model = models.Sequential([\n",
        "        layers.Input(shape=input_shape),\n",
        "\n",
        "        layers.Conv2D(32, (3,3), activation='relu', padding='same'),\n",
        "        layers.Conv2D(32, (3,3), activation='relu', padding='same'),\n",
        "        layers.MaxPooling2D(2,2),\n",
        "        layers.Dropout(0.15),\n",
        "\n",
        "        layers.Conv2D(64, (3,3), activation='relu', padding='same'),\n",
        "        layers.Conv2D(64, (3,3), activation='relu', padding='same'),\n",
        "        layers.MaxPooling2D(2,2),\n",
        "        layers.Dropout(0.25),\n",
        "\n",
        "        layers.GlobalAveragePooling2D(),\n",
        "        layers.Dense(128, activation='relu'),\n",
        "        layers.Dropout(0.4),\n",
        "        layers.Dense(n_classes, activation='softmax')\n",
        "    ])\n",
        "    return model\n",
        "\n",
        "def create_mobilenet_transfer(input_shape=INPUT_SHAPE, n_classes=10):\n",
        "    base = MobileNetV2(weights='imagenet', include_top=False, input_shape=input_shape)\n",
        "    base.trainable = False  # congelado para entrenar rápido\n",
        "    model = models.Sequential([\n",
        "        base,\n",
        "        layers.GlobalAveragePooling2D(),\n",
        "        layers.Dropout(0.4),\n",
        "        layers.Dense(128, activation='relu'),\n",
        "        layers.Dense(n_classes, activation='softmax')\n",
        "    ])\n",
        "    return model\n",
        "\n",
        "# Mostrar resumen de uno para confirmar shapes\n",
        "modelo_prueba = create_cnn_better()\n",
        "modelo_prueba.summary()\n"
      ],
      "metadata": {
        "colab": {
          "base_uri": "https://localhost:8080/",
          "height": 529
        },
        "id": "mzVRMVKJgqiz",
        "outputId": "4505df38-a01a-491c-a890-5443527aa5c4"
      },
      "id": "mzVRMVKJgqiz",
      "execution_count": null,
      "outputs": [
        {
          "output_type": "display_data",
          "data": {
            "text/plain": [
              "\u001b[1mModel: \"sequential_4\"\u001b[0m\n"
            ],
            "text/html": [
              "<pre style=\"white-space:pre;overflow-x:auto;line-height:normal;font-family:Menlo,'DejaVu Sans Mono',consolas,'Courier New',monospace\"><span style=\"font-weight: bold\">Model: \"sequential_4\"</span>\n",
              "</pre>\n"
            ]
          },
          "metadata": {}
        },
        {
          "output_type": "display_data",
          "data": {
            "text/plain": [
              "┏━━━━━━━━━━━━━━━━━━━━━━━━━━━━━━━━━┳━━━━━━━━━━━━━━━━━━━━━━━━┳━━━━━━━━━━━━━━━┓\n",
              "┃\u001b[1m \u001b[0m\u001b[1mLayer (type)                   \u001b[0m\u001b[1m \u001b[0m┃\u001b[1m \u001b[0m\u001b[1mOutput Shape          \u001b[0m\u001b[1m \u001b[0m┃\u001b[1m \u001b[0m\u001b[1m      Param #\u001b[0m\u001b[1m \u001b[0m┃\n",
              "┡━━━━━━━━━━━━━━━━━━━━━━━━━━━━━━━━━╇━━━━━━━━━━━━━━━━━━━━━━━━╇━━━━━━━━━━━━━━━┩\n",
              "│ conv2d_8 (\u001b[38;5;33mConv2D\u001b[0m)               │ (\u001b[38;5;45mNone\u001b[0m, \u001b[38;5;34m32\u001b[0m, \u001b[38;5;34m32\u001b[0m, \u001b[38;5;34m32\u001b[0m)     │           \u001b[38;5;34m896\u001b[0m │\n",
              "├─────────────────────────────────┼────────────────────────┼───────────────┤\n",
              "│ conv2d_9 (\u001b[38;5;33mConv2D\u001b[0m)               │ (\u001b[38;5;45mNone\u001b[0m, \u001b[38;5;34m32\u001b[0m, \u001b[38;5;34m32\u001b[0m, \u001b[38;5;34m32\u001b[0m)     │         \u001b[38;5;34m9,248\u001b[0m │\n",
              "├─────────────────────────────────┼────────────────────────┼───────────────┤\n",
              "│ max_pooling2d_6 (\u001b[38;5;33mMaxPooling2D\u001b[0m)  │ (\u001b[38;5;45mNone\u001b[0m, \u001b[38;5;34m16\u001b[0m, \u001b[38;5;34m16\u001b[0m, \u001b[38;5;34m32\u001b[0m)     │             \u001b[38;5;34m0\u001b[0m │\n",
              "├─────────────────────────────────┼────────────────────────┼───────────────┤\n",
              "│ dropout_4 (\u001b[38;5;33mDropout\u001b[0m)             │ (\u001b[38;5;45mNone\u001b[0m, \u001b[38;5;34m16\u001b[0m, \u001b[38;5;34m16\u001b[0m, \u001b[38;5;34m32\u001b[0m)     │             \u001b[38;5;34m0\u001b[0m │\n",
              "├─────────────────────────────────┼────────────────────────┼───────────────┤\n",
              "│ conv2d_10 (\u001b[38;5;33mConv2D\u001b[0m)              │ (\u001b[38;5;45mNone\u001b[0m, \u001b[38;5;34m16\u001b[0m, \u001b[38;5;34m16\u001b[0m, \u001b[38;5;34m64\u001b[0m)     │        \u001b[38;5;34m18,496\u001b[0m │\n",
              "├─────────────────────────────────┼────────────────────────┼───────────────┤\n",
              "│ conv2d_11 (\u001b[38;5;33mConv2D\u001b[0m)              │ (\u001b[38;5;45mNone\u001b[0m, \u001b[38;5;34m16\u001b[0m, \u001b[38;5;34m16\u001b[0m, \u001b[38;5;34m64\u001b[0m)     │        \u001b[38;5;34m36,928\u001b[0m │\n",
              "├─────────────────────────────────┼────────────────────────┼───────────────┤\n",
              "│ max_pooling2d_7 (\u001b[38;5;33mMaxPooling2D\u001b[0m)  │ (\u001b[38;5;45mNone\u001b[0m, \u001b[38;5;34m8\u001b[0m, \u001b[38;5;34m8\u001b[0m, \u001b[38;5;34m64\u001b[0m)       │             \u001b[38;5;34m0\u001b[0m │\n",
              "├─────────────────────────────────┼────────────────────────┼───────────────┤\n",
              "│ dropout_5 (\u001b[38;5;33mDropout\u001b[0m)             │ (\u001b[38;5;45mNone\u001b[0m, \u001b[38;5;34m8\u001b[0m, \u001b[38;5;34m8\u001b[0m, \u001b[38;5;34m64\u001b[0m)       │             \u001b[38;5;34m0\u001b[0m │\n",
              "├─────────────────────────────────┼────────────────────────┼───────────────┤\n",
              "│ global_average_pooling2d        │ (\u001b[38;5;45mNone\u001b[0m, \u001b[38;5;34m64\u001b[0m)             │             \u001b[38;5;34m0\u001b[0m │\n",
              "│ (\u001b[38;5;33mGlobalAveragePooling2D\u001b[0m)        │                        │               │\n",
              "├─────────────────────────────────┼────────────────────────┼───────────────┤\n",
              "│ dense_8 (\u001b[38;5;33mDense\u001b[0m)                 │ (\u001b[38;5;45mNone\u001b[0m, \u001b[38;5;34m128\u001b[0m)            │         \u001b[38;5;34m8,320\u001b[0m │\n",
              "├─────────────────────────────────┼────────────────────────┼───────────────┤\n",
              "│ dropout_6 (\u001b[38;5;33mDropout\u001b[0m)             │ (\u001b[38;5;45mNone\u001b[0m, \u001b[38;5;34m128\u001b[0m)            │             \u001b[38;5;34m0\u001b[0m │\n",
              "├─────────────────────────────────┼────────────────────────┼───────────────┤\n",
              "│ dense_9 (\u001b[38;5;33mDense\u001b[0m)                 │ (\u001b[38;5;45mNone\u001b[0m, \u001b[38;5;34m10\u001b[0m)             │         \u001b[38;5;34m1,290\u001b[0m │\n",
              "└─────────────────────────────────┴────────────────────────┴───────────────┘\n"
            ],
            "text/html": [
              "<pre style=\"white-space:pre;overflow-x:auto;line-height:normal;font-family:Menlo,'DejaVu Sans Mono',consolas,'Courier New',monospace\">┏━━━━━━━━━━━━━━━━━━━━━━━━━━━━━━━━━┳━━━━━━━━━━━━━━━━━━━━━━━━┳━━━━━━━━━━━━━━━┓\n",
              "┃<span style=\"font-weight: bold\"> Layer (type)                    </span>┃<span style=\"font-weight: bold\"> Output Shape           </span>┃<span style=\"font-weight: bold\">       Param # </span>┃\n",
              "┡━━━━━━━━━━━━━━━━━━━━━━━━━━━━━━━━━╇━━━━━━━━━━━━━━━━━━━━━━━━╇━━━━━━━━━━━━━━━┩\n",
              "│ conv2d_8 (<span style=\"color: #0087ff; text-decoration-color: #0087ff\">Conv2D</span>)               │ (<span style=\"color: #00d7ff; text-decoration-color: #00d7ff\">None</span>, <span style=\"color: #00af00; text-decoration-color: #00af00\">32</span>, <span style=\"color: #00af00; text-decoration-color: #00af00\">32</span>, <span style=\"color: #00af00; text-decoration-color: #00af00\">32</span>)     │           <span style=\"color: #00af00; text-decoration-color: #00af00\">896</span> │\n",
              "├─────────────────────────────────┼────────────────────────┼───────────────┤\n",
              "│ conv2d_9 (<span style=\"color: #0087ff; text-decoration-color: #0087ff\">Conv2D</span>)               │ (<span style=\"color: #00d7ff; text-decoration-color: #00d7ff\">None</span>, <span style=\"color: #00af00; text-decoration-color: #00af00\">32</span>, <span style=\"color: #00af00; text-decoration-color: #00af00\">32</span>, <span style=\"color: #00af00; text-decoration-color: #00af00\">32</span>)     │         <span style=\"color: #00af00; text-decoration-color: #00af00\">9,248</span> │\n",
              "├─────────────────────────────────┼────────────────────────┼───────────────┤\n",
              "│ max_pooling2d_6 (<span style=\"color: #0087ff; text-decoration-color: #0087ff\">MaxPooling2D</span>)  │ (<span style=\"color: #00d7ff; text-decoration-color: #00d7ff\">None</span>, <span style=\"color: #00af00; text-decoration-color: #00af00\">16</span>, <span style=\"color: #00af00; text-decoration-color: #00af00\">16</span>, <span style=\"color: #00af00; text-decoration-color: #00af00\">32</span>)     │             <span style=\"color: #00af00; text-decoration-color: #00af00\">0</span> │\n",
              "├─────────────────────────────────┼────────────────────────┼───────────────┤\n",
              "│ dropout_4 (<span style=\"color: #0087ff; text-decoration-color: #0087ff\">Dropout</span>)             │ (<span style=\"color: #00d7ff; text-decoration-color: #00d7ff\">None</span>, <span style=\"color: #00af00; text-decoration-color: #00af00\">16</span>, <span style=\"color: #00af00; text-decoration-color: #00af00\">16</span>, <span style=\"color: #00af00; text-decoration-color: #00af00\">32</span>)     │             <span style=\"color: #00af00; text-decoration-color: #00af00\">0</span> │\n",
              "├─────────────────────────────────┼────────────────────────┼───────────────┤\n",
              "│ conv2d_10 (<span style=\"color: #0087ff; text-decoration-color: #0087ff\">Conv2D</span>)              │ (<span style=\"color: #00d7ff; text-decoration-color: #00d7ff\">None</span>, <span style=\"color: #00af00; text-decoration-color: #00af00\">16</span>, <span style=\"color: #00af00; text-decoration-color: #00af00\">16</span>, <span style=\"color: #00af00; text-decoration-color: #00af00\">64</span>)     │        <span style=\"color: #00af00; text-decoration-color: #00af00\">18,496</span> │\n",
              "├─────────────────────────────────┼────────────────────────┼───────────────┤\n",
              "│ conv2d_11 (<span style=\"color: #0087ff; text-decoration-color: #0087ff\">Conv2D</span>)              │ (<span style=\"color: #00d7ff; text-decoration-color: #00d7ff\">None</span>, <span style=\"color: #00af00; text-decoration-color: #00af00\">16</span>, <span style=\"color: #00af00; text-decoration-color: #00af00\">16</span>, <span style=\"color: #00af00; text-decoration-color: #00af00\">64</span>)     │        <span style=\"color: #00af00; text-decoration-color: #00af00\">36,928</span> │\n",
              "├─────────────────────────────────┼────────────────────────┼───────────────┤\n",
              "│ max_pooling2d_7 (<span style=\"color: #0087ff; text-decoration-color: #0087ff\">MaxPooling2D</span>)  │ (<span style=\"color: #00d7ff; text-decoration-color: #00d7ff\">None</span>, <span style=\"color: #00af00; text-decoration-color: #00af00\">8</span>, <span style=\"color: #00af00; text-decoration-color: #00af00\">8</span>, <span style=\"color: #00af00; text-decoration-color: #00af00\">64</span>)       │             <span style=\"color: #00af00; text-decoration-color: #00af00\">0</span> │\n",
              "├─────────────────────────────────┼────────────────────────┼───────────────┤\n",
              "│ dropout_5 (<span style=\"color: #0087ff; text-decoration-color: #0087ff\">Dropout</span>)             │ (<span style=\"color: #00d7ff; text-decoration-color: #00d7ff\">None</span>, <span style=\"color: #00af00; text-decoration-color: #00af00\">8</span>, <span style=\"color: #00af00; text-decoration-color: #00af00\">8</span>, <span style=\"color: #00af00; text-decoration-color: #00af00\">64</span>)       │             <span style=\"color: #00af00; text-decoration-color: #00af00\">0</span> │\n",
              "├─────────────────────────────────┼────────────────────────┼───────────────┤\n",
              "│ global_average_pooling2d        │ (<span style=\"color: #00d7ff; text-decoration-color: #00d7ff\">None</span>, <span style=\"color: #00af00; text-decoration-color: #00af00\">64</span>)             │             <span style=\"color: #00af00; text-decoration-color: #00af00\">0</span> │\n",
              "│ (<span style=\"color: #0087ff; text-decoration-color: #0087ff\">GlobalAveragePooling2D</span>)        │                        │               │\n",
              "├─────────────────────────────────┼────────────────────────┼───────────────┤\n",
              "│ dense_8 (<span style=\"color: #0087ff; text-decoration-color: #0087ff\">Dense</span>)                 │ (<span style=\"color: #00d7ff; text-decoration-color: #00d7ff\">None</span>, <span style=\"color: #00af00; text-decoration-color: #00af00\">128</span>)            │         <span style=\"color: #00af00; text-decoration-color: #00af00\">8,320</span> │\n",
              "├─────────────────────────────────┼────────────────────────┼───────────────┤\n",
              "│ dropout_6 (<span style=\"color: #0087ff; text-decoration-color: #0087ff\">Dropout</span>)             │ (<span style=\"color: #00d7ff; text-decoration-color: #00d7ff\">None</span>, <span style=\"color: #00af00; text-decoration-color: #00af00\">128</span>)            │             <span style=\"color: #00af00; text-decoration-color: #00af00\">0</span> │\n",
              "├─────────────────────────────────┼────────────────────────┼───────────────┤\n",
              "│ dense_9 (<span style=\"color: #0087ff; text-decoration-color: #0087ff\">Dense</span>)                 │ (<span style=\"color: #00d7ff; text-decoration-color: #00d7ff\">None</span>, <span style=\"color: #00af00; text-decoration-color: #00af00\">10</span>)             │         <span style=\"color: #00af00; text-decoration-color: #00af00\">1,290</span> │\n",
              "└─────────────────────────────────┴────────────────────────┴───────────────┘\n",
              "</pre>\n"
            ]
          },
          "metadata": {}
        },
        {
          "output_type": "display_data",
          "data": {
            "text/plain": [
              "\u001b[1m Total params: \u001b[0m\u001b[38;5;34m75,178\u001b[0m (293.66 KB)\n"
            ],
            "text/html": [
              "<pre style=\"white-space:pre;overflow-x:auto;line-height:normal;font-family:Menlo,'DejaVu Sans Mono',consolas,'Courier New',monospace\"><span style=\"font-weight: bold\"> Total params: </span><span style=\"color: #00af00; text-decoration-color: #00af00\">75,178</span> (293.66 KB)\n",
              "</pre>\n"
            ]
          },
          "metadata": {}
        },
        {
          "output_type": "display_data",
          "data": {
            "text/plain": [
              "\u001b[1m Trainable params: \u001b[0m\u001b[38;5;34m75,178\u001b[0m (293.66 KB)\n"
            ],
            "text/html": [
              "<pre style=\"white-space:pre;overflow-x:auto;line-height:normal;font-family:Menlo,'DejaVu Sans Mono',consolas,'Courier New',monospace\"><span style=\"font-weight: bold\"> Trainable params: </span><span style=\"color: #00af00; text-decoration-color: #00af00\">75,178</span> (293.66 KB)\n",
              "</pre>\n"
            ]
          },
          "metadata": {}
        },
        {
          "output_type": "display_data",
          "data": {
            "text/plain": [
              "\u001b[1m Non-trainable params: \u001b[0m\u001b[38;5;34m0\u001b[0m (0.00 B)\n"
            ],
            "text/html": [
              "<pre style=\"white-space:pre;overflow-x:auto;line-height:normal;font-family:Menlo,'DejaVu Sans Mono',consolas,'Courier New',monospace\"><span style=\"font-weight: bold\"> Non-trainable params: </span><span style=\"color: #00af00; text-decoration-color: #00af00\">0</span> (0.00 B)\n",
              "</pre>\n"
            ]
          },
          "metadata": {}
        }
      ]
    },
    {
      "cell_type": "markdown",
      "id": "4f2d9142",
      "metadata": {
        "id": "4f2d9142"
      },
      "source": [
        "## Entrenamiento de modelos."
      ]
    },
    {
      "cell_type": "code",
      "source": [
        "# === CELDA 5: ENTRENAMIENTO RÁPIDO ===\n",
        "EPOCHS = 5\n",
        "BATCH = 64\n",
        "\n",
        "# 1) CNN simple\n",
        "model1 = create_cnn_simple()\n",
        "model1.compile(optimizer='adam', loss='categorical_crossentropy', metrics=['accuracy'])\n",
        "hist1 = model1.fit(datagen.flow(x_train_small, y_train_small, batch_size=BATCH),\n",
        "                   epochs=EPOCHS, validation_data=(x_test, y_test),\n",
        "                   callbacks=[early, reduce_lr], verbose=1)\n",
        "\n",
        "# 2) CNN mejorada\n",
        "model2 = create_cnn_better()\n",
        "model2.compile(optimizer='adam', loss='categorical_crossentropy', metrics=['accuracy'])\n",
        "hist2 = model2.fit(datagen.flow(x_train_small, y_train_small, batch_size=BATCH),\n",
        "                   epochs=EPOCHS, validation_data=(x_test, y_test),\n",
        "                   callbacks=[early, reduce_lr], verbose=1)\n",
        "\n",
        "# 3) Transfer MobileNetV2 (congelada)\n",
        "model3 = create_mobilenet_transfer()\n",
        "model3.compile(optimizer='adam', loss='categorical_crossentropy', metrics=['accuracy'])\n",
        "hist3 = model3.fit(datagen.flow(x_train_small, y_train_small, batch_size=BATCH),\n",
        "                   epochs=3, validation_data=(x_test, y_test),\n",
        "                   callbacks=[early, reduce_lr], verbose=1)\n",
        "\n",
        "print(\"Entrenamiento rápido finalizado ✅\")\n"
      ],
      "metadata": {
        "colab": {
          "base_uri": "https://localhost:8080/"
        },
        "id": "D_u8dIQ_BA-I",
        "outputId": "c95b9d39-5361-4ea2-bc04-c421a29a374a"
      },
      "id": "D_u8dIQ_BA-I",
      "execution_count": null,
      "outputs": [
        {
          "output_type": "stream",
          "name": "stdout",
          "text": [
            "Epoch 1/5\n",
            "\u001b[1m157/157\u001b[0m \u001b[32m━━━━━━━━━━━━━━━━━━━━\u001b[0m\u001b[37m\u001b[0m \u001b[1m25s\u001b[0m 150ms/step - accuracy: 0.1725 - loss: 2.2023 - val_accuracy: 0.3904 - val_loss: 1.7366 - learning_rate: 0.0010\n",
            "Epoch 2/5\n",
            "\u001b[1m157/157\u001b[0m \u001b[32m━━━━━━━━━━━━━━━━━━━━\u001b[0m\u001b[37m\u001b[0m \u001b[1m23s\u001b[0m 145ms/step - accuracy: 0.3300 - loss: 1.8144 - val_accuracy: 0.4406 - val_loss: 1.5829 - learning_rate: 0.0010\n",
            "Epoch 3/5\n",
            "\u001b[1m157/157\u001b[0m \u001b[32m━━━━━━━━━━━━━━━━━━━━\u001b[0m\u001b[37m\u001b[0m \u001b[1m41s\u001b[0m 148ms/step - accuracy: 0.3878 - loss: 1.6707 - val_accuracy: 0.4613 - val_loss: 1.4662 - learning_rate: 0.0010\n",
            "Epoch 4/5\n",
            "\u001b[1m157/157\u001b[0m \u001b[32m━━━━━━━━━━━━━━━━━━━━\u001b[0m\u001b[37m\u001b[0m \u001b[1m25s\u001b[0m 161ms/step - accuracy: 0.4141 - loss: 1.5952 - val_accuracy: 0.5049 - val_loss: 1.3768 - learning_rate: 0.0010\n",
            "Epoch 5/5\n",
            "\u001b[1m157/157\u001b[0m \u001b[32m━━━━━━━━━━━━━━━━━━━━\u001b[0m\u001b[37m\u001b[0m \u001b[1m23s\u001b[0m 147ms/step - accuracy: 0.4395 - loss: 1.5416 - val_accuracy: 0.5262 - val_loss: 1.3192 - learning_rate: 0.0010\n",
            "Restoring model weights from the end of the best epoch: 5.\n",
            "Epoch 1/5\n",
            "\u001b[1m157/157\u001b[0m \u001b[32m━━━━━━━━━━━━━━━━━━━━\u001b[0m\u001b[37m\u001b[0m \u001b[1m60s\u001b[0m 372ms/step - accuracy: 0.1431 - loss: 2.2432 - val_accuracy: 0.2308 - val_loss: 2.0298 - learning_rate: 0.0010\n",
            "Epoch 2/5\n",
            "\u001b[1m157/157\u001b[0m \u001b[32m━━━━━━━━━━━━━━━━━━━━\u001b[0m\u001b[37m\u001b[0m \u001b[1m67s\u001b[0m 430ms/step - accuracy: 0.2202 - loss: 2.0355 - val_accuracy: 0.2863 - val_loss: 1.8720 - learning_rate: 0.0010\n",
            "Epoch 3/5\n",
            "\u001b[1m157/157\u001b[0m \u001b[32m━━━━━━━━━━━━━━━━━━━━\u001b[0m\u001b[37m\u001b[0m \u001b[1m57s\u001b[0m 361ms/step - accuracy: 0.2587 - loss: 1.9057 - val_accuracy: 0.3420 - val_loss: 1.7575 - learning_rate: 0.0010\n",
            "Epoch 4/5\n",
            "\u001b[1m157/157\u001b[0m \u001b[32m━━━━━━━━━━━━━━━━━━━━\u001b[0m\u001b[37m\u001b[0m \u001b[1m58s\u001b[0m 366ms/step - accuracy: 0.3140 - loss: 1.8002 - val_accuracy: 0.3742 - val_loss: 1.6977 - learning_rate: 0.0010\n",
            "Epoch 5/5\n",
            "\u001b[1m157/157\u001b[0m \u001b[32m━━━━━━━━━━━━━━━━━━━━\u001b[0m\u001b[37m\u001b[0m \u001b[1m57s\u001b[0m 361ms/step - accuracy: 0.3512 - loss: 1.7052 - val_accuracy: 0.3799 - val_loss: 1.6764 - learning_rate: 0.0010\n",
            "Restoring model weights from the end of the best epoch: 5.\n"
          ]
        },
        {
          "output_type": "stream",
          "name": "stderr",
          "text": [
            "/tmp/ipython-input-2155567203.py:42: UserWarning: `input_shape` is undefined or non-square, or `rows` is not in [96, 128, 160, 192, 224]. Weights for input shape (224, 224) will be loaded as the default.\n",
            "  base = MobileNetV2(weights='imagenet', include_top=False, input_shape=input_shape)\n"
          ]
        },
        {
          "output_type": "stream",
          "name": "stdout",
          "text": [
            "Downloading data from https://storage.googleapis.com/tensorflow/keras-applications/mobilenet_v2/mobilenet_v2_weights_tf_dim_ordering_tf_kernels_1.0_224_no_top.h5\n",
            "\u001b[1m9406464/9406464\u001b[0m \u001b[32m━━━━━━━━━━━━━━━━━━━━\u001b[0m\u001b[37m\u001b[0m \u001b[1m0s\u001b[0m 0us/step\n",
            "Epoch 1/3\n",
            "\u001b[1m157/157\u001b[0m \u001b[32m━━━━━━━━━━━━━━━━━━━━\u001b[0m\u001b[37m\u001b[0m \u001b[1m32s\u001b[0m 174ms/step - accuracy: 0.1679 - loss: 2.2350 - val_accuracy: 0.2639 - val_loss: 2.0617 - learning_rate: 0.0010\n",
            "Epoch 2/3\n",
            "\u001b[1m157/157\u001b[0m \u001b[32m━━━━━━━━━━━━━━━━━━━━\u001b[0m\u001b[37m\u001b[0m \u001b[1m24s\u001b[0m 155ms/step - accuracy: 0.2347 - loss: 2.0813 - val_accuracy: 0.2777 - val_loss: 2.0063 - learning_rate: 0.0010\n",
            "Epoch 3/3\n",
            "\u001b[1m157/157\u001b[0m \u001b[32m━━━━━━━━━━━━━━━━━━━━\u001b[0m\u001b[37m\u001b[0m \u001b[1m22s\u001b[0m 140ms/step - accuracy: 0.2417 - loss: 2.0640 - val_accuracy: 0.2827 - val_loss: 1.9868 - learning_rate: 0.0010\n",
            "Restoring model weights from the end of the best epoch: 3.\n",
            "Entrenamiento rápido finalizado ✅\n"
          ]
        }
      ]
    },
    {
      "cell_type": "markdown",
      "id": "03cf78da",
      "metadata": {
        "id": "03cf78da"
      },
      "source": [
        "## Estadística y gráficos"
      ]
    },
    {
      "cell_type": "code",
      "execution_count": null,
      "id": "3ee19061",
      "metadata": {
        "colab": {
          "base_uri": "https://localhost:8080/",
          "height": 488
        },
        "id": "3ee19061",
        "outputId": "aa2328e7-7934-4a5f-83e7-cc6ec80c2fcd"
      },
      "outputs": [
        {
          "output_type": "display_data",
          "data": {
            "text/plain": [
              "<Figure size 1400x500 with 2 Axes>"
            ],
            "image/png": "[encoded data removed]"
          },
          "metadata": {}
        }
      ],
      "source": [
        "# === CELDA 6: GRAFICOS ===\n",
        "def plot_compare(hists, names):\n",
        "    plt.figure(figsize=(14,5))\n",
        "    # Accuracy\n",
        "    plt.subplot(1,2,1)\n",
        "    for h, n in zip(hists, names):\n",
        "        plt.plot(h.history.get('val_accuracy', h.history.get('accuracy')), label=f'{n} val_acc')\n",
        "    plt.title('Validación - Accuracy')\n",
        "    plt.xlabel('Epoch')\n",
        "    plt.legend()\n",
        "    # Loss\n",
        "    plt.subplot(1,2,2)\n",
        "    for h, n in zip(hists, names):\n",
        "        plt.plot(h.history.get('val_loss', h.history.get('loss')), label=f'{n} val_loss')\n",
        "    plt.title('Validación - Loss')\n",
        "    plt.xlabel('Epoch')\n",
        "    plt.legend()\n",
        "    plt.show()\n",
        "\n",
        "plot_compare([hist1, hist2, hist3], ['CNN simple','CNN mejorada','MobileNetV2'])\n"
      ]
    },
    {
      "cell_type": "code",
      "source": [
        "# === CELDA 7: EVALUACIÓN FINAL ===\n",
        "for name, mdl in [('CNN simple', model1), ('CNN mejorada', model2), ('MobileNetV2', model3)]:\n",
        "    loss, acc = mdl.evaluate(x_test, y_test, verbose=0)\n",
        "    print(f\"{name}: loss={loss:.4f}, acc={acc:.4f}\")\n",
        "\n",
        "# Guardar el mejor modelo (por ejemplo model2)\n",
        "model2.save(\"cnn_mejorada_por_defecto.h5\")\n",
        "print(\"Modelo guardado: cnn_mejorada_por_defecto.h5\")\n"
      ],
      "metadata": {
        "colab": {
          "base_uri": "https://localhost:8080/"
        },
        "id": "2-JWfmMbCir8",
        "outputId": "d3bc92f7-2971-4db2-a20e-a1c978b2e160"
      },
      "id": "2-JWfmMbCir8",
      "execution_count": null,
      "outputs": [
        {
          "output_type": "stream",
          "name": "stdout",
          "text": [
            "CNN simple: loss=1.3192, acc=0.5262\n",
            "CNN mejorada: loss=1.6764, acc=0.3799\n"
          ]
        },
        {
          "output_type": "stream",
          "name": "stderr",
          "text": [
            "WARNING:absl:You are saving your model as an HDF5 file via `model.save()` or `keras.saving.save_model(model)`. This file format is considered legacy. We recommend using instead the native Keras format, e.g. `model.save('my_model.keras')` or `keras.saving.save_model(model, 'my_model.keras')`. \n"
          ]
        },
        {
          "output_type": "stream",
          "name": "stdout",
          "text": [
            "MobileNetV2: loss=1.9868, acc=0.2827\n",
            "Modelo guardado: cnn_mejorada_por_defecto.h5\n"
          ]
        }
      ]
    },
    {
      "cell_type": "markdown",
      "id": "228f706d",
      "metadata": {
        "id": "228f706d"
      },
      "source": [
        "# Conclusiones.\n",
        "\n",
        "Escribe tus conclusiones de las arquitecturas hechas ¿Cuál fue el mejor? ¿Por qué? ¿Qué mejoraría? ¿Cómo lo mejoraría?"
      ]
    },
    {
      "cell_type": "markdown",
      "id": "85923622",
      "metadata": {
        "id": "85923622"
      },
      "source": [
        "La arquitectura MobileNetV2 obtuvo el mejor rendimiento, debido a que aprovecha el conocimiento previo aprendido en ImageNet. Si se contara con más tiempo o GPU, se podrían ajustar capas y liberar el entrenamiento de parte del modelo base para mejorar aún más la precisión."
      ]
    }
  ],
  "metadata": {
    "colab": {
      "name": "Practica_CNN.ipynb",
      "provenance": [],
      "include_colab_link": true
    },
    "kernelspec": {
      "display_name": "Python 3",
      "language": "python",
      "name": "python3"
    },
    "language_info": {
      "name": "python",
      "version": "3.x"
    }
  },
  "nbformat": 4,
  "nbformat_minor": 5
}