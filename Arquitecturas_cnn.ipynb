{
 "cells": [
  {
   "cell_type": "markdown",
   "metadata": {},
   "source": [
    "# Actividad: Evaluación comparativa de arquitecturas convolucionales\n",
    "\n",
    "Para este notebook se te solicita construir, entrenar y analizar modelos CNN para clasificar imágenes mediante un dataset CIFAR.\n",
    "\n",
    "**Entregable:** Reporte en la evaluación de la capacidad de arquitectura implementada. Construír arquitecturas propias finalizando con la implementación de una arquitectura clásica mediante transfer learning.\n",
    "\n",
    "\n",
    "## Toma como base el código visto en clase y desarrolla los siguientes puntos:\n",
    "- Diseño e implementación de 2 arquitecturas CNN y utilización de una arquitectura de transfer learning.\n",
    "\n",
    "- Buen uso de data augmentation y regularización.\n",
    "\n",
    "- Comparación experimental entre arquitecturas y reporte claro (un solo markdown con conclusión sobre la comparación).\n",
    "\n",
    "\n",
    "\n"
   ]
  },
  {
   "cell_type": "code",
   "execution_count": null,
   "metadata": {},
   "outputs": [],
   "source": [
    "import numpy as np\n",
    "import pandas as pd\n",
    "import matplotlib.pyplot as plt\n",
    "import tensorflow as tf\n",
    "from tensorflow import keras\n",
    "from tensorflow.keras.applications import # (seleccióna la arquitectura que desees, puedes buscar otras) VGG16, ResNet50, MobileNetV2\n"
   ]
  },
  {
   "cell_type": "markdown",
   "id": "b6673f92",
   "metadata": {},
   "source": [
    "## Definiciones de modelos"
   ]
  },
  {
   "cell_type": "code",
   "execution_count": null,
   "id": "d2095bb4",
   "metadata": {},
   "outputs": [],
   "source": [
    "# Recuerda aquí solo generar las arquitecturas, cada capa así como sus neuronas."
   ]
  },
  {
   "cell_type": "markdown",
   "id": "4f2d9142",
   "metadata": {},
   "source": [
    "## Entrenamiento de modelos."
   ]
  },
  {
   "cell_type": "code",
   "execution_count": null,
   "id": "a3215fc1",
   "metadata": {},
   "outputs": [],
   "source": [
    "# Aquí agrega la compilación y entrenamiento de las arquitecturas generadas."
   ]
  },
  {
   "cell_type": "markdown",
   "id": "03cf78da",
   "metadata": {},
   "source": [
    "## Estadística y gráficos"
   ]
  },
  {
   "cell_type": "code",
   "execution_count": null,
   "id": "3ee19061",
   "metadata": {},
   "outputs": [],
   "source": [
    "# Puedes tomar como base el código visto en clase para generar las graficos de comparación de las arquitecturas o puedes proptear tu propia forma de visualización."
   ]
  },
  {
   "cell_type": "markdown",
   "id": "228f706d",
   "metadata": {},
   "source": [
    "# Conclusiones.\n",
    "\n",
    "Escribe tus conclusiones de las arquitecturas hechas ¿Cuál fue el mejor? ¿Por qué? ¿Qué mejoraría? ¿Cómo lo mejoraría?"
   ]
  },
  {
   "cell_type": "markdown",
   "id": "85923622",
   "metadata": {},
   "source": []
  }
 ],
 "metadata": {
  "colab": {
   "name": "Practica_CNN.ipynb"
  },
  "kernelspec": {
   "display_name": "Python 3",
   "language": "python",
   "name": "python3"
  },
  "language_info": {
   "name": "python",
   "version": "3.x"
  }
 },
 "nbformat": 4,
 "nbformat_minor": 5
}
